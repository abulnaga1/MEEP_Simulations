{
 "cells": [
  {
   "cell_type": "code",
   "execution_count": 1,
   "metadata": {},
   "outputs": [
    {
     "name": "stdout",
     "output_type": "stream",
     "text": [
      "-----------\n",
      "Initializing structure...\n",
      "time for choose_chunkdivision = 0.000127077 s\n",
      "Working in 2D dimensions.\n",
      "Computational cell is 16 x 8 x 0 with resolution 10\n",
      "     block, center = (0,0,0)\n",
      "          size (1e+20,1,1e+20)\n",
      "          axes (1,0,0), (0,1,0), (0,0,1)\n",
      "          dielectric constant epsilon diagonal = (12,12,12)\n",
      "time for set_epsilon = 0.0244241 s\n",
      "-----------\n",
      "creating output file \"./eps-000000.00.h5\"...\n",
      "creating output file \"./ez.h5\"...\n",
      "run 0 finished at t = 200.0 (4000 timesteps)\n"
     ]
    }
   ],
   "source": [
    "import meep as mp\n",
    "\n",
    "#Define our simulation cell\n",
    "cell = mp.Vector3(16,8,0)\n",
    "\n",
    "#Define our fixed-index waveguide\n",
    "geometry = [mp.Block(mp.Vector3(mp.inf,1,mp.inf),\n",
    "                     center=mp.Vector3(),\n",
    "                     material=mp.Medium(epsilon=12))]\n",
    "\n",
    "#Define our cell boundary and resolution\\\n",
    "pml_layers = [mp.PML(1.0)]\n",
    "resolution = 10\n",
    "\n",
    "#Define our line source which spans the waveguide and turns on (tanh function) over the course of 20 time units to not excite other modes\n",
    "sources = [mp.Source(mp.ContinuousSource(frequency=0.15, width=20), #width defines the turn on time\n",
    "                     component=mp.Ez,\n",
    "                     center=mp.Vector3(-7,0),\n",
    "                     size=mp.Vector3(0,1))]   #size is definining the source to be a 1um wide line\n",
    "\n",
    "#Define the simulation\n",
    "sim = mp.Simulation(cell_size=cell,\n",
    "                    boundary_layers=pml_layers,\n",
    "                    geometry=geometry,\n",
    "                    sources=sources,\n",
    "                    resolution=resolution)\n",
    "\n",
    "#Run and output the epsilon and ez field profiles every 0.6 time units until the simulation run time end (time=200)\n",
    "sim.run(mp.at_beginning(mp.output_epsilon),\n",
    "        mp.to_appended(\"ez\", mp.at_every(0.6, mp.output_efield_z)),\n",
    "        until=200)"
   ]
  }
 ],
 "metadata": {
  "kernelspec": {
   "display_name": "Python (meep)",
   "language": "python",
   "name": "meep"
  },
  "language_info": {
   "codemirror_mode": {
    "name": "ipython",
    "version": 3
   },
   "file_extension": ".py",
   "mimetype": "text/x-python",
   "name": "python",
   "nbconvert_exporter": "python",
   "pygments_lexer": "ipython3",
   "version": "3.7.3"
  }
 },
 "nbformat": 4,
 "nbformat_minor": 4
}
