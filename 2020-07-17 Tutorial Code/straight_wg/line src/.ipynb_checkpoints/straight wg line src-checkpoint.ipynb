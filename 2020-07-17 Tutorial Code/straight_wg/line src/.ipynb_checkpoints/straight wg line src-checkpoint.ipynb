{
 "cells": [
  {
   "cell_type": "code",
   "execution_count": null,
   "metadata": {},
   "outputs": [],
   "source": [
    "import meep as mp\n",
    "\n",
    "#Define our simulation cell\n",
    "cell = mp.Vector3(16,8,0)\n",
    "\n",
    "#Define our fixed-index waveguide\n",
    "geometry = [mp.Block(mp.Vector3(mp.inf,1,mp.inf),\n",
    "                     center=mp.Vector3(),\n",
    "                     material=mp.Medium(epsilon=12))]\n",
    "\n",
    "#Define our cell boundary and resolution\\\n",
    "pml_layers = [mp.PML(1.0)]\n",
    "resolution = 10\n",
    "\n",
    "#Define our line source which spans the waveguide and turns on (tanh function) over the course of 20 time units to not excite other modes\n",
    "sources = [mp.Source(mp.ContinuousSource(frequency=0.15, width=20), #width defines the turn on time\n",
    "                     component=mp.Ez,\n",
    "                     center=mp.Vector3(-7,0),\n",
    "                     size=mp.Vector3(0,1))]   #size is definining the source to be a 1um wide line\n",
    "\n",
    "#Define the simulation\n",
    "sim = mp.Simulation(cell_size=cell,\n",
    "                    boundary_layers=pml_layers,\n",
    "                    geometry=geometry,\n",
    "                    sources=sources,\n",
    "                    resolution=resolution)\n",
    "\n",
    "#Run and output the epsilon and ez field profiles every 0.6 time units until the simulation run time end (time=200)\n",
    "sim.run(mp.at_beginning(mp.output_epsilon),\n",
    "        mp.to_appended(\"ez\", mp.at_every(0.6, mp.output_efield_z)),\n",
    "        until=200)"
   ]
  }
 ],
 "metadata": {
  "kernelspec": {
   "display_name": "Python (meep)",
   "language": "python",
   "name": "meep"
  },
  "language_info": {
   "codemirror_mode": {
    "name": "ipython",
    "version": 3
   },
   "file_extension": ".py",
   "mimetype": "text/x-python",
   "name": "python",
   "nbconvert_exporter": "python",
   "pygments_lexer": "ipython3",
   "version": "3.7.3"
  }
 },
 "nbformat": 4,
 "nbformat_minor": 4
}
