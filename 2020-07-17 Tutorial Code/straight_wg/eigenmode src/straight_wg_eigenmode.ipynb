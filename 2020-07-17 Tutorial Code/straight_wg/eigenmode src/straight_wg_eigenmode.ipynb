{
 "cells": [
  {
   "cell_type": "code",
   "execution_count": 8,
   "metadata": {},
   "outputs": [
    {
     "name": "stdout",
     "output_type": "stream",
     "text": [
      "-----------\n",
      "Initializing structure...\n",
      "time for choose_chunkdivision = 9.39369e-05 s\n",
      "Working in 2D dimensions.\n",
      "Computational cell is 16 x 8 x 0 with resolution 10\n",
      "     block, center = (0,0,0)\n",
      "          size (1e+20,1,1e+20)\n",
      "          axes (1,0,0), (0,1,0), (0,0,1)\n",
      "          dielectric constant epsilon diagonal = (12,12,12)\n",
      "time for set_epsilon = 0.024128 s\n",
      "-----------\n",
      "MPB solved for omega_1(0.519615,0,0) = 0.17693 after 15 iters\n",
      "MPB solved for omega_1(0.42265,0,0) = 0.149862 after 8 iters\n",
      "MPB solved for omega_1(0.42314,0,0) = 0.15 after 5 iters\n",
      "MPB solved for omega_1(0.42314,0,0) = 0.15 after 1 iters\n",
      "run 0 finished at t = 200.0 (4000 timesteps)\n"
     ]
    }
   ],
   "source": [
    "import meep as mp\n",
    "\n",
    "cell = mp.Vector3(16,8,0)\n",
    "w=1\n",
    "geometry = [mp.Block(mp.Vector3(mp.inf,w,mp.inf),\n",
    "                     center=mp.Vector3(),\n",
    "                     material=mp.Medium(epsilon=12))]\n",
    "\n",
    "#Define our eigenmode source\n",
    "fsrc = 0.15 #Vacuum wavelength = 1550nm\n",
    "bnum = 1     #Inject fundamental mode (band number 1)\n",
    "\n",
    "sources = [mp.EigenModeSource(src=mp.ContinuousSource(fsrc),   #Define a single frequency source\n",
    "                                  center=mp.Vector3(),         #Define the origin of the source\n",
    "                                  size=mp.Vector3(y=3*w),      #Source is 3x wider than the waveguide width\n",
    "                                  direction=mp.X,              #Inject along x-axis\n",
    "                                  eig_band=bnum,               #Look at band number num\n",
    "                                  eig_parity=mp.EVEN_Y,         #Look at y odd (TE)\n",
    "                                  eig_match_freq=True)]        #Find the mode with frequency = fsrc and launch this (as opposed to launching based on the k-point)\n",
    "\n",
    "pml_layers = [mp.PML(1.0)]\n",
    "resolution = 10\n",
    "\n",
    "sim = mp.Simulation(cell_size=cell,\n",
    "                    boundary_layers=pml_layers,\n",
    "                    geometry=geometry,\n",
    "                    sources=sources,\n",
    "                    resolution=resolution)\n",
    "\n",
    "sim.run(until=200)\n"
   ]
  },
  {
   "cell_type": "code",
   "execution_count": 4,
   "metadata": {},
   "outputs": [
    {
     "data": {
      "image/png": "[encoded data removed]",
      "text/plain": [
       "<Figure size 432x288 with 1 Axes>"
      ]
     },
     "metadata": {
      "needs_background": "light"
     },
     "output_type": "display_data"
    }
   ],
   "source": [
    "import numpy as np\n",
    "import matplotlib.pyplot as plt\n",
    "\n",
    "eps_data = sim.get_array(center=mp.Vector3(), size=cell, component=mp.Dielectric)\n",
    "plt.figure()\n",
    "plt.imshow(eps_data.transpose(), interpolation='spline36', cmap='binary')\n",
    "plt.axis('off')\n",
    "plt.show()"
   ]
  },
  {
   "cell_type": "code",
   "execution_count": 9,
   "metadata": {},
   "outputs": [
    {
     "data": {
      "image/png": "[encoded data removed]",
      "text/plain": [
       "<Figure size 432x288 with 1 Axes>"
      ]
     },
     "metadata": {
      "needs_background": "light"
     },
     "output_type": "display_data"
    }
   ],
   "source": [
    "ez_data = sim.get_array(center=mp.Vector3(), size=cell, component=mp.Ez)\n",
    "plt.figure()\n",
    "plt.imshow(eps_data.transpose(), interpolation='spline36', cmap='binary')\n",
    "plt.imshow(ez_data.transpose(), interpolation='spline36', cmap='RdBu', alpha=0.9)\n",
    "plt.axis('off')\n",
    "plt.show()"
   ]
  }
 ],
 "metadata": {
  "kernelspec": {
   "display_name": "Python (meep)",
   "language": "python",
   "name": "meep"
  },
  "language_info": {
   "codemirror_mode": {
    "name": "ipython",
    "version": 3
   },
   "file_extension": ".py",
   "mimetype": "text/x-python",
   "name": "python",
   "nbconvert_exporter": "python",
   "pygments_lexer": "ipython3",
   "version": "3.7.3"
  }
 },
 "nbformat": 4,
 "nbformat_minor": 4
}
