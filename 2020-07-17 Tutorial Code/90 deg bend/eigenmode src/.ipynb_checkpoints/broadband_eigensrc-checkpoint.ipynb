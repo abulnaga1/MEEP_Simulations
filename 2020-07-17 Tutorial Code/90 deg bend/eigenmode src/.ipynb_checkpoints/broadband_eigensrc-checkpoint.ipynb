{
 "cells": [
  {
   "cell_type": "code",
   "execution_count": 14,
   "metadata": {},
   "outputs": [
    {
     "name": "stdout",
     "output_type": "stream",
     "text": [
      "-----------\n",
      "Initializing structure...\n",
      "time for choose_chunkdivision = 0.000111818 s\n",
      "Working in 2D dimensions.\n",
      "Computational cell is 16 x 32 x 0 with resolution 10\n",
      "     block, center = (0,-11.5,0)\n",
      "          size (1e+20,1,1e+20)\n",
      "          axes (1,0,0), (0,1,0), (0,0,1)\n",
      "          dielectric constant epsilon diagonal = (4.1705,4.1705,4.1705)\n",
      "time for set_epsilon = 0.078594 s\n",
      "lorentzian susceptibility: frequency=0.0363583, gamma=0\n",
      "lorentzian susceptibility: frequency=2.91852, gamma=0\n",
      "-----------\n",
      "MPB solved for omega_1(0.44926,0,0) = 0.151396 after 10 iters\n",
      "MPB solved for omega_1(0.445118,0,0) = 0.15 after 4 iters\n",
      "MPB solved for omega_1(0.445118,0,0) = 0.15 after 1 iters\n"
     ]
    },
    {
     "name": "stderr",
     "output_type": "stream",
     "text": [
      "/home/aa22/.conda/envs/meep/lib/python3.7/site-packages/meep/simulation.py:727: RuntimeWarning: Note: your sources include frequencies outside the range of validity of the material models. This is fine as long as you eventually only look at outputs (fluxes, resonant modes, etc.) at valid frequencies.\n",
      "  warnings.warn(warn_src, RuntimeWarning)\n",
      "/home/aa22/.conda/envs/meep/lib/python3.7/site-packages/meep/simulation.py:731: RuntimeWarning: DFT frequency 0.09999999999999999 is out of material's range of 0.1-1.1111111111111112\n",
      "  warnings.warn(warn_dft_fmt.format(dftf, min_freq, max_freq), RuntimeWarning)\n"
     ]
    },
    {
     "name": "stdout",
     "output_type": "stream",
     "text": [
      "field decay(t = 50.050000000000004): 2.628020993877857e-07 / 2.628020993877857e-07 = 1.0\n",
      "field decay(t = 100.05000000000001): 1.2995320189872686 / 1.2995320189872686 = 1.0\n",
      "on time step 2633 (time=131.65), 0.00151978 s/step\n",
      "field decay(t = 150.1): 0.5214183001016892 / 1.2995320189872686 = 0.401235438975973\n",
      "field decay(t = 200.15): 5.293937885305227e-13 / 1.2995320189872686 = 4.073726393775829e-13\n",
      "run 0 finished at t = 200.15 (4003 timesteps)\n"
     ]
    }
   ],
   "source": [
    "#Line source, 90 deg bend, transmission measurements\n",
    "import meep as mp\n",
    "import numpy as np\n",
    "import matplotlib.pyplot as plt\n",
    "\n",
    "#Define our Custom GaP Material using the Madarasz Sellmeier Model\n",
    "GaP_range = mp.FreqRange(min=1/10, max=1/0.9)\n",
    "\n",
    "GaP_frq1 = 1/(0.34264)\n",
    "GaP_gam1 = 0\n",
    "GaP_sig1 = 4.9113\n",
    "GaP_frq2 = 1/(27.504)\n",
    "GaP_gam2 = 0\n",
    "GaP_sig2 = 1.9928\n",
    "\n",
    "GaP_susc = [mp.LorentzianSusceptibility(frequency=GaP_frq1, gamma=GaP_gam1, sigma=GaP_sig1),\n",
    "           mp.LorentzianSusceptibility(frequency=GaP_frq2, gamma=GaP_gam2, sigma=GaP_sig2)]\n",
    "\n",
    "GaP = mp.Medium(epsilon=4.1705, E_susceptibilities=GaP_susc, valid_freq_range=GaP_range)\n",
    "\n",
    "#Define simulation cell and resolution\n",
    "resolution = 10 # pixels/um\n",
    "sx = 16  # size of cell in X direction\n",
    "sy = 32  # size of cell in Y direction\n",
    "cell = mp.Vector3(sx,sy,0)\n",
    "dpml = 1.0\n",
    "pml_layers = [mp.PML(dpml)]\n",
    "\n",
    "#Define geometric variables\n",
    "pad = 4  # padding distance between waveguide and cell edge\n",
    "w = 1    # width of waveguide\n",
    "wvg_xcen =  0.5*(sx-w-2*pad)  # x center of horiz. wvg\n",
    "wvg_ycen = -0.5*(sy-w-2*pad)  # y center of vert. wvg\n",
    "\n",
    "#We run two simulations, one with only a straight waveguide (reference power), then a second simulation with a bend to calculate the transmission normalized by the reference power\n",
    "#Straight WG only\n",
    "geometry = [mp.Block(size=mp.Vector3(mp.inf,w,mp.inf),\n",
    "                     center=mp.Vector3(0,wvg_ycen,0),\n",
    "                     material=GaP)]\n",
    "\n",
    "#Use a gaussian line source to look at multiple frequencies\n",
    "fcen = 0.15  # pulse center frequency\n",
    "df = 0.1     # pulse width (in frequency)\n",
    "bnum = 1\n",
    "sources = [mp.EigenModeSource(src=mp.GaussianSource(fcen,fwidth=df),\n",
    "                     center=mp.Vector3(-0.5*sx+dpml,wvg_ycen,0),\n",
    "                     size=mp.Vector3(0,w,0),\n",
    "                     direction=mp.X,              #Inject along x-axis\n",
    "                     eig_band=bnum,               #Look at band number num\n",
    "                     eig_parity=mp.EVEN_Y,        #Look at y odd (TE)\n",
    "                     eig_match_freq=True)]        #Find the mode with frequency = fsrc and launch this (as opposed to launching based on the k-point)\n",
    "\n",
    "#Define the simulation\n",
    "sim = mp.Simulation(cell_size=cell,\n",
    "                    boundary_layers=pml_layers,\n",
    "                    geometry=geometry,\n",
    "                    sources=sources,\n",
    "                    resolution=resolution)\n",
    "\n",
    "#Define flux spectra calculation\n",
    "nfreq = 100  # number of frequencies at which to compute flux\n",
    "\n",
    "# reflected flux\n",
    "refl_fr = mp.FluxRegion(center=mp.Vector3(-0.5*sx+dpml+0.5,wvg_ycen,0), size=mp.Vector3(0,2*w,0))   #look at reflections 500nm from PML edge / source location.                        \n",
    "refl = sim.add_flux(fcen, df, nfreq, refl_fr)                                                       #Note the flux region is twice as wide as the waveguide  \n",
    "\n",
    "# transmitted flux\n",
    "tran_fr = mp.FluxRegion(center=mp.Vector3(0.5*sx-dpml,wvg_ycen,0), size=mp.Vector3(0,2*w,0)) #Transmission measured at PML edge on other side\n",
    "tran = sim.add_flux(fcen, df, nfreq, tran_fr) #Flux is computed for nfreq points between fcen +/- df/2\n",
    "\n",
    "#When we later want to calculate reflectance, we have to be careful to separate incident light from actually reflected light\n",
    "#We can do this by first saving the FT of the incident fields from this normalization reference simulation, then before we start \n",
    "#our second simulation of the bent structure we will load back these fields \"negated\", which subtracts the FT of the incident fields\n",
    "#from the FT of the scattered fields\n",
    "\n",
    "#Let's run the normalization simulation\n",
    "pt = mp.Vector3(0.5*sx-dpml-0.5,wvg_ycen)\n",
    "\n",
    "sim.run(until_after_sources=mp.stop_when_fields_decayed(50,mp.Ez,pt,1e-3)) #This command runs the simulation for as long as it takes for the |Ez|^2 field to decay by a factor\n",
    "                                                                           #of 1e3 from its peak value at the location defined by pt (in this case, the end of the waveguide)\n",
    "                                                                           #Once this decay is reached, the simulation runs for an additional 50 time steps in case the amplitude rises again\n",
    "\n",
    "# for normalization run, save incident flux fields data for reflection plane\n",
    "straight_refl_data = sim.get_flux_data(refl) #This saves the input fields as measured 500nm into the waveguide from the source location\n",
    "# save incident power for transmission plane\n",
    "straight_tran_flux = mp.get_fluxes(tran)"
   ]
  },
  {
   "cell_type": "code",
   "execution_count": 15,
   "metadata": {},
   "outputs": [
    {
     "name": "stdout",
     "output_type": "stream",
     "text": [
      "-----------\n",
      "Initializing structure...\n",
      "time for choose_chunkdivision = 0.000112057 s\n",
      "Working in 2D dimensions.\n",
      "Computational cell is 16 x 32 x 0 with resolution 10\n",
      "     block, center = (-2,-11.5,0)\n",
      "          size (12,1,1e+20)\n",
      "          axes (1,0,0), (0,1,0), (0,0,1)\n",
      "          dielectric constant epsilon diagonal = (4.1705,4.1705,4.1705)\n",
      "     block, center = (3.5,2,0)\n",
      "          size (1,28,1e+20)\n",
      "          axes (1,0,0), (0,1,0), (0,0,1)\n",
      "          dielectric constant epsilon diagonal = (4.1705,4.1705,4.1705)\n",
      "time for set_epsilon = 0.0868199 s\n",
      "lorentzian susceptibility: frequency=0.0363583, gamma=0\n",
      "lorentzian susceptibility: frequency=2.91852, gamma=0\n",
      "-----------\n",
      "MPB solved for omega_1(0.44926,0,0) = 0.151396 after 10 iters\n",
      "MPB solved for omega_1(0.445118,0,0) = 0.15 after 4 iters\n",
      "MPB solved for omega_1(0.445118,0,0) = 0.15 after 1 iters\n",
      "field decay(t = 50.050000000000004): 6.0452383853662655e-09 / 6.0452383853662655e-09 = 1.0\n",
      "field decay(t = 100.05000000000001): 1.686239931817469e-05 / 1.686239931817469e-05 = 1.0\n",
      "on time step 2677 (time=133.85), 0.00149424 s/step\n",
      "field decay(t = 150.1): 0.012742409770037887 / 0.012742409770037887 = 1.0\n",
      "field decay(t = 200.15): 0.2345988800922429 / 0.2345988800922429 = 1.0\n",
      "field decay(t = 250.20000000000002): 3.6569041162304063e-06 / 0.2345988800922429 = 1.558790099420992e-05\n",
      "run 0 finished at t = 250.20000000000002 (5004 timesteps)\n"
     ]
    }
   ],
   "source": [
    "#Now we can run our second simulation with the bent structure\n",
    "\n",
    "#First, reset the simulation we defined earlier\n",
    "sim.reset_meep()\n",
    "\n",
    "#Now define our new geometry with the bend\n",
    "geometry = [mp.Block(mp.Vector3(sx-pad,w,mp.inf), center=mp.Vector3(-0.5*pad,wvg_ycen), material=GaP),\n",
    "            mp.Block(mp.Vector3(w,sy-pad,mp.inf), center=mp.Vector3(wvg_xcen,0.5*pad), material=GaP)]\n",
    "\n",
    "#Define our simulation region again\n",
    "sim = mp.Simulation(cell_size=cell,\n",
    "                    boundary_layers=pml_layers,\n",
    "                    geometry=geometry,\n",
    "                    sources=sources,\n",
    "                    resolution=resolution)\n",
    "\n",
    "#Add back our transmission and reflection monitors\n",
    "# reflected flux\n",
    "refl = sim.add_flux(fcen, df, nfreq, refl_fr)\n",
    "# transmitted flux, defined at bottom of waveguide now\n",
    "tran_fr = mp.FluxRegion(center=mp.Vector3(wvg_xcen,0.5*sy-dpml-0.5,0), size=mp.Vector3(2*w,0,0))\n",
    "tran = sim.add_flux(fcen, df, nfreq, tran_fr)\n",
    "\n",
    "# for normalization run, load negated fields to subtract incident from refl. fields\n",
    "sim.load_minus_flux_data(refl, straight_refl_data)\n",
    "\n",
    "#Run the simulation\n",
    "pt = mp.Vector3(wvg_xcen,0.5*sy-dpml-0.5)\n",
    "sim.run(until_after_sources=mp.stop_when_fields_decayed(50, mp.Ez, pt, 1e-3))\n",
    "\n",
    "#Retrieve the flux data and the frequency points from the monitors\n",
    "bend_refl_flux = mp.get_fluxes(refl)\n",
    "bend_tran_flux = mp.get_fluxes(tran)\n",
    "flux_freqs = mp.get_flux_freqs(refl)"
   ]
  },
  {
   "cell_type": "code",
   "execution_count": 16,
   "metadata": {},
   "outputs": [
    {
     "data": {
      "image/png": "[encoded data removed]",
      "text/plain": [
       "<Figure size 432x288 with 1 Axes>"
      ]
     },
     "metadata": {
      "needs_background": "light"
     },
     "output_type": "display_data"
    }
   ],
   "source": [
    "#Now lets plot the transmission, reflectance, and scattering loss\n",
    "wl = []\n",
    "Rs = []\n",
    "Ts = []\n",
    "for i in range(nfreq):\n",
    "    wl = np.append(wl, 1/flux_freqs[i])                          #vacuum wavelength = 1/freq\n",
    "    Rs = np.append(Rs,-bend_refl_flux[i]/straight_tran_flux[i])  #Reflectance = bent reflected flux / reference incident flux, multiply by -1 because -x direction\n",
    "    Ts = np.append(Ts,bend_tran_flux[i]/straight_tran_flux[i])   #Transmission = bent transmitted flux / reference incident flux\n",
    "    \n",
    "if mp.am_master():\n",
    "    plt.figure()\n",
    "    plt.plot(wl,Rs,'bo-',label='reflectance')\n",
    "    plt.plot(wl,Ts,'ro-',label='transmittance')\n",
    "    plt.plot(wl,1-Rs-Ts,'go-',label='loss')\n",
    "    plt.axis([5.0, 10.0, 0, 1])\n",
    "    plt.xlabel(\"wavelength (μm)\")\n",
    "    plt.legend(loc=\"upper right\")\n",
    "    plt.show()"
   ]
  }
 ],
 "metadata": {
  "kernelspec": {
   "display_name": "Python (meep)",
   "language": "python",
   "name": "meep"
  },
  "language_info": {
   "codemirror_mode": {
    "name": "ipython",
    "version": 3
   },
   "file_extension": ".py",
   "mimetype": "text/x-python",
   "name": "python",
   "nbconvert_exporter": "python",
   "pygments_lexer": "ipython3",
   "version": "3.7.3"
  }
 },
 "nbformat": 4,
 "nbformat_minor": 4
}
