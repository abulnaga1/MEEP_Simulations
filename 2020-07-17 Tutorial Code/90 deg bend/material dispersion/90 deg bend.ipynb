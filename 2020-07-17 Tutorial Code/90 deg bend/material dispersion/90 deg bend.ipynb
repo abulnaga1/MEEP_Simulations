{
 "cells": [
  {
   "cell_type": "code",
   "execution_count": 16,
   "metadata": {},
   "outputs": [],
   "source": [
    "#Line source, 90 deg bend, transmission measurements\n",
    "import meep as mp\n",
    "import numpy as np\n",
    "import matplotlib.pyplot as plt\n",
    "\n",
    "#Define our Custom GaP Material using the Madarasz Sellmeier Model\n",
    "GaP_range = mp.FreqRange(min=1/10, max=1/0.9)\n",
    "\n",
    "GaP_frq1 = 1/(0.34264)\n",
    "GaP_gam1 = 0\n",
    "GaP_sig1 = 4.9113\n",
    "GaP_frq2 = 1/(27.504)\n",
    "GaP_gam2 = 0\n",
    "GaP_sig2 = 1.9928\n",
    "\n",
    "GaP_susc = [mp.LorentzianSusceptibility(frequency=GaP_frq1, gamma=GaP_gam1, sigma=GaP_sig1),\n",
    "           mp.LorentzianSusceptibility(frequency=GaP_frq2, gamma=GaP_gam2, sigma=GaP_sig2)]\n",
    "\n",
    "GaP = mp.Medium(epsilon=4.1705, E_susceptibilities=GaP_susc, valid_freq_range=GaP_range)\n"
   ]
  },
  {
   "cell_type": "code",
   "execution_count": 17,
   "metadata": {},
   "outputs": [
    {
     "name": "stdout",
     "output_type": "stream",
     "text": [
      "-----------\n",
      "Initializing structure...\n",
      "time for choose_chunkdivision = 0.000113964 s\n",
      "Working in 2D dimensions.\n",
      "Computational cell is 16 x 32 x 0 with resolution 10\n",
      "     block, center = (0,-11.5,0)\n",
      "          size (1e+20,1,1e+20)\n",
      "          axes (1,0,0), (0,1,0), (0,0,1)\n",
      "          dielectric constant epsilon diagonal = (4.1705,4.1705,4.1705)\n",
      "time for set_epsilon = 0.0789731 s\n",
      "lorentzian susceptibility: frequency=0.0363583, gamma=0\n",
      "lorentzian susceptibility: frequency=2.91852, gamma=0\n",
      "-----------\n",
      "field decay(t = 50.050000000000004): 1.221571185318245e-08 / 1.221571185318245e-08 = 1.0\n",
      "field decay(t = 100.05000000000001): 0.03325987179723673 / 0.03325987179723673 = 1.0\n",
      "field decay(t = 150.1): 0.013256305059976436 / 0.03325987179723673 = 0.39856753329631855\n",
      "field decay(t = 200.15): 1.335841980011895e-14 / 0.03325987179723673 = 4.0163774176750687e-13\n",
      "run 0 finished at t = 200.15 (4003 timesteps)\n"
     ]
    }
   ],
   "source": [
    "#Define simulation cell and resolution\n",
    "resolution = 10 # pixels/um\n",
    "sx = 16  # size of cell in X direction\n",
    "sy = 32  # size of cell in Y direction\n",
    "cell = mp.Vector3(sx,sy,0)\n",
    "dpml = 1.0\n",
    "pml_layers = [mp.PML(dpml)]\n",
    "\n",
    "#Define geometric variables\n",
    "pad = 4  # padding distance between waveguide and cell edge\n",
    "w = 1    # width of waveguide\n",
    "wvg_xcen =  0.5*(sx-w-2*pad)  # x center of horiz. wvg\n",
    "wvg_ycen = -0.5*(sy-w-2*pad)  # y center of vert. wvg\n",
    "\n",
    "#We run two simulations, one with only a straight waveguide (reference power), then a second simulation with a bend to calculate the transmission normalized by the reference power\n",
    "#Straight WG only\n",
    "geometry = [mp.Block(size=mp.Vector3(mp.inf,w,mp.inf),\n",
    "                     center=mp.Vector3(0,wvg_ycen,0),\n",
    "                     material=GaP)]\n",
    "\n",
    "#Use a gaussian line source to look at multiple frequencies\n",
    "fcen = 0.15  # pulse center frequency\n",
    "df = 0.1     # pulse width (in frequency)\n",
    "sources = [mp.Source(mp.GaussianSource(fcen,fwidth=df),\n",
    "                     component=mp.Ez,\n",
    "                     center=mp.Vector3(-0.5*sx+dpml,wvg_ycen,0),\n",
    "                     size=mp.Vector3(0,w,0))]\n",
    "\n",
    "#Define the simulation\n",
    "sim = mp.Simulation(cell_size=cell,\n",
    "                    boundary_layers=pml_layers,\n",
    "                    geometry=geometry,\n",
    "                    sources=sources,\n",
    "                    resolution=resolution)\n",
    "\n",
    "#Define flux spectra calculation\n",
    "nfreq = 100  # number of frequencies at which to compute flux\n",
    "\n",
    "# reflected flux\n",
    "refl_fr = mp.FluxRegion(center=mp.Vector3(-0.5*sx+dpml+0.5,wvg_ycen,0), size=mp.Vector3(0,2*w,0))   #look at reflections 500nm from PML edge / source location.                        \n",
    "refl = sim.add_flux(fcen, df, nfreq, refl_fr)                                                       #Note the flux region is twice as wide as the waveguide  \n",
    "\n",
    "# transmitted flux\n",
    "tran_fr = mp.FluxRegion(center=mp.Vector3(0.5*sx-dpml,wvg_ycen,0), size=mp.Vector3(0,2*w,0)) #Transmission measured at PML edge on other side\n",
    "tran = sim.add_flux(fcen, df, nfreq, tran_fr) #Flux is computed for nfreq points between fcen +/- df/2\n",
    "\n",
    "#When we later want to calculate reflectance, we have to be careful to separate incident light from actually reflected light\n",
    "#We can do this by first saving the FT of the incident fields from this normalization reference simulation, then before we start \n",
    "#our second simulation of the bent structure we will load back these fields \"negated\", which subtracts the FT of the incident fields\n",
    "#from the FT of the scattered fields\n",
    "\n",
    "#Let's run the normalization simulation\n",
    "pt = mp.Vector3(0.5*sx-dpml-0.5,wvg_ycen)\n",
    "\n",
    "sim.run(until_after_sources=mp.stop_when_fields_decayed(50,mp.Ez,pt,1e-3)) #This command runs the simulation for as long as it takes for the |Ez|^2 field to decay by a factor\n",
    "                                                                           #of 1e3 from its peak value at the location defined by pt (in this case, the end of the waveguide)\n",
    "                                                                           #Once this decay is reached, the simulation runs for an additional 50 time steps in case the amplitude rises again\n",
    "\n",
    "# for normalization run, save incident flux fields data for reflection plane\n",
    "straight_refl_data = sim.get_flux_data(refl) #This saves the input fields as measured 500nm into the waveguide from the source location\n",
    "# save incident power for transmission plane\n",
    "straight_tran_flux = mp.get_fluxes(tran)"
   ]
  },
  {
   "cell_type": "code",
   "execution_count": 18,
   "metadata": {},
   "outputs": [
    {
     "name": "stdout",
     "output_type": "stream",
     "text": [
      "-----------\n",
      "Initializing structure...\n",
      "time for choose_chunkdivision = 0.00010705 s\n",
      "Working in 2D dimensions.\n",
      "Computational cell is 16 x 32 x 0 with resolution 10\n",
      "     block, center = (-2,-11.5,0)\n",
      "          size (12,1,1e+20)\n",
      "          axes (1,0,0), (0,1,0), (0,0,1)\n",
      "          dielectric constant epsilon diagonal = (4.1705,4.1705,4.1705)\n",
      "     block, center = (3.5,2,0)\n",
      "          size (1,28,1e+20)\n",
      "          axes (1,0,0), (0,1,0), (0,0,1)\n",
      "          dielectric constant epsilon diagonal = (4.1705,4.1705,4.1705)\n",
      "time for set_epsilon = 0.087049 s\n",
      "lorentzian susceptibility: frequency=0.0363583, gamma=0\n",
      "lorentzian susceptibility: frequency=2.91852, gamma=0\n",
      "-----------\n",
      "field decay(t = 50.050000000000004): 4.095933147966656e-10 / 4.095933147966656e-10 = 1.0\n",
      "field decay(t = 100.05000000000001): 1.1271358912281113e-06 / 1.1271358912281113e-06 = 1.0\n",
      "field decay(t = 150.1): 0.00031944568730248615 / 0.00031944568730248615 = 1.0\n",
      "field decay(t = 200.15): 0.006038373788323893 / 0.006038373788323893 = 1.0\n",
      "field decay(t = 250.20000000000002): 9.629068572802314e-08 / 0.006038373788323893 = 1.594645994161801e-05\n",
      "run 0 finished at t = 250.20000000000002 (5004 timesteps)\n"
     ]
    }
   ],
   "source": [
    "#Now we can run our second simulation with the bent structure\n",
    "\n",
    "#First, reset the simulation we defined earlier\n",
    "sim.reset_meep()\n",
    "\n",
    "#Now define our new geometry with the bend\n",
    "geometry = [mp.Block(mp.Vector3(sx-pad,w,mp.inf), center=mp.Vector3(-0.5*pad,wvg_ycen), material=GaP),\n",
    "            mp.Block(mp.Vector3(w,sy-pad,mp.inf), center=mp.Vector3(wvg_xcen,0.5*pad), material=GaP)]\n",
    "\n",
    "#Define our simulation region again\n",
    "sim = mp.Simulation(cell_size=cell,\n",
    "                    boundary_layers=pml_layers,\n",
    "                    geometry=geometry,\n",
    "                    sources=sources,\n",
    "                    resolution=resolution)\n",
    "\n",
    "#Add back our transmission and reflection monitors\n",
    "# reflected flux\n",
    "refl = sim.add_flux(fcen, df, nfreq, refl_fr)\n",
    "# transmitted flux, defined at bottom of waveguide now\n",
    "tran_fr = mp.FluxRegion(center=mp.Vector3(wvg_xcen,0.5*sy-dpml-0.5,0), size=mp.Vector3(2*w,0,0))\n",
    "tran = sim.add_flux(fcen, df, nfreq, tran_fr)\n",
    "\n",
    "# for normalization run, load negated fields to subtract incident from refl. fields\n",
    "sim.load_minus_flux_data(refl, straight_refl_data)\n",
    "\n",
    "#Run the simulation\n",
    "pt = mp.Vector3(wvg_xcen,0.5*sy-dpml-0.5)\n",
    "sim.run(until_after_sources=mp.stop_when_fields_decayed(50, mp.Ez, pt, 1e-3))\n",
    "\n",
    "#Retrieve the flux data and the frequency points from the monitors\n",
    "bend_refl_flux = mp.get_fluxes(refl)\n",
    "bend_tran_flux = mp.get_fluxes(tran)\n",
    "flux_freqs = mp.get_flux_freqs(refl)"
   ]
  },
  {
   "cell_type": "code",
   "execution_count": 19,
   "metadata": {},
   "outputs": [
    {
     "data": {
      "image/png": "[encoded data removed]",
      "text/plain": [
       "<Figure size 432x288 with 1 Axes>"
      ]
     },
     "metadata": {
      "needs_background": "light"
     },
     "output_type": "display_data"
    }
   ],
   "source": [
    "#Now lets plot the transmission, reflectance, and scattering loss\n",
    "wl = []\n",
    "Rs = []\n",
    "Ts = []\n",
    "for i in range(nfreq):\n",
    "    wl = np.append(wl, 1/flux_freqs[i])                          #vacuum wavelength = 1/freq\n",
    "    Rs = np.append(Rs,-bend_refl_flux[i]/straight_tran_flux[i])  #Reflectance = bent reflected flux / reference incident flux, multiply by -1 because -x direction\n",
    "    Ts = np.append(Ts,bend_tran_flux[i]/straight_tran_flux[i])   #Transmission = bent transmitted flux / reference incident flux\n",
    "    \n",
    "if mp.am_master():\n",
    "    plt.figure()\n",
    "    plt.plot(wl,Rs,'bo-',label='reflectance')\n",
    "    plt.plot(wl,Ts,'ro-',label='transmittance')\n",
    "    plt.plot(wl,1-Rs-Ts,'go-',label='loss')\n",
    "    plt.axis([5.0, 10.0, 0, 1])\n",
    "    plt.xlabel(\"wavelength (μm)\")\n",
    "    plt.legend(loc=\"upper right\")\n",
    "    plt.show()"
   ]
  }
 ],
 "metadata": {
  "kernelspec": {
   "display_name": "Python (meep)",
   "language": "python",
   "name": "meep"
  },
  "language_info": {
   "codemirror_mode": {
    "name": "ipython",
    "version": 3
   },
   "file_extension": ".py",
   "mimetype": "text/x-python",
   "name": "python",
   "nbconvert_exporter": "python",
   "pygments_lexer": "ipython3",
   "version": "3.7.3"
  }
 },
 "nbformat": 4,
 "nbformat_minor": 4
}
